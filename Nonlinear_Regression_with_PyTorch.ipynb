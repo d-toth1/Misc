{
  "nbformat": 4,
  "nbformat_minor": 0,
  "metadata": {
    "colab": {
      "name": "Nonlinear Regression with PyTorch.ipynb",
      "provenance": []
    },
    "kernelspec": {
      "name": "python3",
      "display_name": "Python 3"
    }
  },
  "cells": [
    {
      "cell_type": "code",
      "metadata": {
        "id": "NYBrlION_sZE"
      },
      "source": [
        "import torch as tch\n",
        "import torch.nn as nn\n",
        "import torch.optim as optim\n",
        "import matplotlib.pyplot as plt\n",
        "import numpy as np"
      ],
      "execution_count": 1,
      "outputs": []
    },
    {
      "cell_type": "code",
      "metadata": {
        "id": "Z6y9tUVDAdzz"
      },
      "source": [
        "# Define a nonlinear function with noise\n",
        "def f(x):\n",
        "  return np.cos(x)*np.exp(-x) + np.random.normal(0, 2.5, len(x))"
      ],
      "execution_count": 2,
      "outputs": []
    },
    {
      "cell_type": "code",
      "metadata": {
        "id": "lJXj7MIpAsoV",
        "outputId": "f41ccb5f-ca5d-4f1c-efdb-bfd6a82e918f",
        "colab": {
          "base_uri": "https://localhost:8080/",
          "height": 265
        }
      },
      "source": [
        "# Visualize \n",
        "x = np.linspace(-5, 5, 501)\n",
        "y = f(x)\n",
        "plt.scatter(x,y);"
      ],
      "execution_count": 3,
      "outputs": [
        {
          "output_type": "display_data",
          "data": {
            "image/png": "[encoded data removed]",
            "text/plain": [
              "<Figure size 432x288 with 1 Axes>"
            ]
          },
          "metadata": {
            "tags": [],
            "needs_background": "light"
          }
        }
      ]
    },
    {
      "cell_type": "code",
      "metadata": {
        "id": "Wn09ucYOAxa1"
      },
      "source": [
        "# Define a deep neural net.\n",
        "# This will be a relatively large model, so we can\n",
        "# learn the nonlinearities very well and maximize \n",
        "# prediction accuracy\n",
        "model = nn.Sequential(\n",
        "    nn.Linear(1, 256),\n",
        "    nn.SELU(),\n",
        "    nn.Linear(256, 256),\n",
        "    nn.SELU(),\n",
        "    nn.Linear(256, 1)\n",
        ")"
      ],
      "execution_count": 4,
      "outputs": []
    },
    {
      "cell_type": "code",
      "metadata": {
        "id": "KvOwQVtyDiTT"
      },
      "source": [
        "# Put np.arrays into tch.tensors\n",
        "X = tch.tensor(x.reshape(-1,1)).float()\n",
        "Y = tch.tensor(y.reshape(-1,1)).float()\n",
        "\n",
        "# Split into train and test sets (70/30)\n",
        "ntrain = int(0.7*len(X))\n",
        "idx = tch.tensor(np.random.choice(np.arange(len(X)), ntrain, replace=False))\n",
        "xtrain = X[idx]\n",
        "xtest = X[~idx]\n",
        "ytrain = Y[idx]\n",
        "ytest = Y[~idx]"
      ],
      "execution_count": 5,
      "outputs": []
    },
    {
      "cell_type": "code",
      "metadata": {
        "id": "y7bIeDVgDnDK"
      },
      "source": [
        "# Define optimizer and loss function\n",
        "optimizer = optim.Adam(model.parameters())\n",
        "loss_fn = nn.L1Loss()"
      ],
      "execution_count": 6,
      "outputs": []
    },
    {
      "cell_type": "code",
      "metadata": {
        "id": "ewrrZH1mD9qk",
        "outputId": "7b0e7ce9-369b-4fc4-f8a8-b48a4233850a",
        "colab": {
          "base_uri": "https://localhost:8080/",
          "height": 212
        }
      },
      "source": [
        "# Train the model\n",
        "it = 0\n",
        "loss_val = 10\n",
        "while (loss_val > 1e-4) and (it < 5000):\n",
        "  y_pred = model(xtrain)\n",
        "  loss = loss_fn(y_pred, ytrain)\n",
        "  loss_val = loss.item()\n",
        "\n",
        "  if it % 500 == 0:\n",
        "    print(\"Epoch: {}, Loss: {}\".format(it, loss_val))\n",
        "\n",
        "  optimizer.zero_grad()\n",
        "  loss.backward()\n",
        "  optimizer.step()\n",
        "  it += 1\n",
        "print(\"Loss after all iterations: \", loss_val)"
      ],
      "execution_count": 7,
      "outputs": [
        {
          "output_type": "stream",
          "text": [
            "Epoch: 0, Loss: 7.5792131423950195\n",
            "Epoch: 500, Loss: 2.859755039215088\n",
            "Epoch: 1000, Loss: 2.068410634994507\n",
            "Epoch: 1500, Loss: 2.028832197189331\n",
            "Epoch: 2000, Loss: 2.0136618614196777\n",
            "Epoch: 2500, Loss: 1.9992698431015015\n",
            "Epoch: 3000, Loss: 1.9767626523971558\n",
            "Epoch: 3500, Loss: 2.000166893005371\n",
            "Epoch: 4000, Loss: 1.9857655763626099\n",
            "Epoch: 4500, Loss: 1.9662964344024658\n",
            "Loss after all iterations:  1.958327054977417\n"
          ],
          "name": "stdout"
        }
      ]
    },
    {
      "cell_type": "code",
      "metadata": {
        "id": "swsnuTWpEhqv",
        "outputId": "85459c21-39db-408e-fdca-2fc36284f8c4",
        "colab": {
          "base_uri": "https://localhost:8080/",
          "height": 265
        }
      },
      "source": [
        "# Visually inspect model fit on test set\n",
        "yp = model(xtest)\n",
        "plt.scatter(xtest,ytest, alpha=0.5, label='True')\n",
        "plt.scatter(xtest, yp.detach().numpy(), alpha=0.5, c='r', label='Model')\n",
        "plt.legend();"
      ],
      "execution_count": 8,
      "outputs": [
        {
          "output_type": "display_data",
          "data": {
            "image/png": "[encoded data removed]",
            "text/plain": [
              "<Figure size 432x288 with 1 Axes>"
            ]
          },
          "metadata": {
            "tags": [],
            "needs_background": "light"
          }
        }
      ]
    },
    {
      "cell_type": "code",
      "metadata": {
        "id": "EoA7pEfME2ZX",
        "outputId": "7462fb89-a9f2-45f3-9e36-e5ed44895f43",
        "colab": {
          "base_uri": "https://localhost:8080/",
          "height": 35
        }
      },
      "source": [
        "# Quantify test set error\n",
        "print(\"Test set loss: \", loss_fn(yp, ytest).item())"
      ],
      "execution_count": 12,
      "outputs": [
        {
          "output_type": "stream",
          "text": [
            "Test set loss:  2.031618595123291\n"
          ],
          "name": "stdout"
        }
      ]
    },
    {
      "cell_type": "code",
      "metadata": {
        "id": "eEe9kIy5X5bh"
      },
      "source": [
        ""
      ],
      "execution_count": null,
      "outputs": []
    }
  ]
}
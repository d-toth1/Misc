{
  "nbformat": 4,
  "nbformat_minor": 0,
  "metadata": {
    "colab": {
      "name": "Fitting Functions with PyTorch.ipynb",
      "provenance": []
    },
    "kernelspec": {
      "name": "python3",
      "display_name": "Python 3"
    },
    "language_info": {
      "name": "python"
    }
  },
  "cells": [
    {
      "cell_type": "code",
      "metadata": {
        "id": "DB9ue1jKfvs6"
      },
      "source": [
        "import torch as tch\n",
        "import matplotlib.pyplot as plt"
      ],
      "execution_count": 1,
      "outputs": []
    },
    {
      "cell_type": "code",
      "metadata": {
        "id": "cOgT2iEFiSL_"
      },
      "source": [
        "x = tch.distributions.Uniform(-5.0, 5.0).sample([500, 1])\n",
        "fx = lambda x: tch.cos(x)*x**3 + tch.sin(x)*x**2 + x + tch.randn_like(x)\n",
        "y = fx(x)"
      ],
      "execution_count": 2,
      "outputs": []
    },
    {
      "cell_type": "code",
      "metadata": {
        "colab": {
          "base_uri": "https://localhost:8080/",
          "height": 265
        },
        "id": "UKrENWR5GI5r",
        "outputId": "3e902c62-85ad-4a5b-c06f-c5467c1d9b43"
      },
      "source": [
        "plt.scatter(x, y);"
      ],
      "execution_count": 3,
      "outputs": [
        {
          "output_type": "display_data",
          "data": {
            "image/png": "[encoded data removed]",
            "text/plain": [
              "<Figure size 432x288 with 1 Axes>"
            ]
          },
          "metadata": {
            "tags": [],
            "needs_background": "light"
          }
        }
      ]
    },
    {
      "cell_type": "code",
      "metadata": {
        "id": "ByAktSU7GKMA"
      },
      "source": [
        "model = tch.nn.Sequential(\n",
        "    tch.nn.Linear(1, 128),\n",
        "    tch.nn.ReLU(),\n",
        "    tch.nn.Linear(128, 128),\n",
        "    tch.nn.ReLU(),\n",
        "    tch.nn.Linear(128, 1)\n",
        ")"
      ],
      "execution_count": 4,
      "outputs": []
    },
    {
      "cell_type": "code",
      "metadata": {
        "id": "79iV9A-bPS8P"
      },
      "source": [
        "perm = tch.randperm(len(x))\n",
        "n = int(0.75*len(x))\n",
        "train_idx = perm[:n]\n",
        "test_idx = perm[n:]\n",
        "\n",
        "xtrain = x[train_idx]\n",
        "ytrain = y[train_idx]\n",
        "xtest = x[test_idx]\n",
        "ytest = y[test_idx]"
      ],
      "execution_count": 5,
      "outputs": []
    },
    {
      "cell_type": "code",
      "metadata": {
        "colab": {
          "base_uri": "https://localhost:8080/"
        },
        "id": "G5q-Cw1tG966",
        "outputId": "4f9669d0-99cb-4020-fecf-4c76ea983e67"
      },
      "source": [
        "loss = tch.nn.MSELoss()\n",
        "optim = tch.optim.Adam(model.parameters(), lr=0.002)\n",
        "prev_loss = tch.tensor([10.])\n",
        "it = 0\n",
        "\n",
        "for i in range(5000):\n",
        "  it += 1\n",
        "  yhat = model(xtrain)\n",
        "  loss_ = loss(yhat, ytrain)\n",
        "\n",
        "  if tch.abs(loss_ - prev_loss) < 1e-6:\n",
        "    break \n",
        "  \n",
        "  loss_.backward()\n",
        "  optim.step()\n",
        "  optim.zero_grad()\n",
        "\n",
        "  prev_loss = loss_\n",
        "\n",
        "print(\"Finishing in {} iterations\".format(it))"
      ],
      "execution_count": 6,
      "outputs": [
        {
          "output_type": "stream",
          "text": [
            "Finishing in 3677 iterations\n"
          ],
          "name": "stdout"
        }
      ]
    },
    {
      "cell_type": "code",
      "metadata": {
        "colab": {
          "base_uri": "https://localhost:8080/",
          "height": 265
        },
        "id": "H2wiBxOrHXR5",
        "outputId": "0acafd1a-c781-44d9-a8b7-665e6e503989"
      },
      "source": [
        "idx = tch.argsort(xtest, dim=0)\n",
        "ypred = model(xtest).detach()\n",
        "\n",
        "plt.plot(xtest[idx].flatten(), ypred[idx].flatten(), c='k')\n",
        "plt.scatter(xtest, ytest, alpha=0.5);"
      ],
      "execution_count": 7,
      "outputs": [
        {
          "output_type": "display_data",
          "data": {
            "image/png": "[encoded data removed]",
            "text/plain": [
              "<Figure size 432x288 with 1 Axes>"
            ]
          },
          "metadata": {
            "tags": [],
            "needs_background": "light"
          }
        }
      ]
    },
    {
      "cell_type": "code",
      "metadata": {
        "colab": {
          "base_uri": "https://localhost:8080/"
        },
        "id": "_t5nYto_Q828",
        "outputId": "1bca86d1-d4a8-4be6-9371-75e0c6929261"
      },
      "source": [
        "train_rmse = tch.sqrt(tch.mean((model(xtrain).detach() - ytrain)**2))\n",
        "test_rmse = tch.sqrt(tch.mean((model(xtest).detach() - ytest)**2))\n",
        "print(\"Train RMSE: {}   Test RMSE: {}\".format(train_rmse, test_rmse))"
      ],
      "execution_count": 8,
      "outputs": [
        {
          "output_type": "stream",
          "text": [
            "Train RMSE: 0.9322449564933777   Test RMSE: 1.0653327703475952\n"
          ],
          "name": "stdout"
        }
      ]
    },
    {
      "cell_type": "code",
      "metadata": {
        "id": "8FqgUvu-U_xJ"
      },
      "source": [
        ""
      ],
      "execution_count": 8,
      "outputs": []
    }
  ]
}
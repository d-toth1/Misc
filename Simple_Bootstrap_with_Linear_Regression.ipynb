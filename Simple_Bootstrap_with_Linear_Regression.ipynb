{
  "nbformat": 4,
  "nbformat_minor": 0,
  "metadata": {
    "colab": {
      "name": "Simple Bootstrap with Linear Regression.ipynb",
      "provenance": []
    },
    "kernelspec": {
      "name": "python3",
      "display_name": "Python 3"
    },
    "language_info": {
      "name": "python"
    }
  },
  "cells": [
    {
      "cell_type": "code",
      "metadata": {
        "id": "O1kfz6F-H0O3"
      },
      "source": [
        "import numpy as np\n",
        "from numpy.linalg import lstsq\n",
        "import matplotlib.pyplot as plt"
      ],
      "execution_count": 1,
      "outputs": []
    },
    {
      "cell_type": "code",
      "metadata": {
        "colab": {
          "base_uri": "https://localhost:8080/",
          "height": 279
        },
        "id": "GG3ZiuFVH-gS",
        "outputId": "9858907f-aa0a-4b2f-fa4b-befc9e2a9d48"
      },
      "source": [
        "# Generate data\n",
        "n_samples = 50\n",
        "rng = np.random.default_rng()\n",
        "x = rng.random(n_samples)\n",
        "y = 2.0 * x + 3.0 + rng.standard_normal(n_samples)\n",
        "\n",
        "plt.scatter(x,y)\n",
        "plt.xlabel(\"$x$\")\n",
        "plt.ylabel(\"$y$\");"
      ],
      "execution_count": 2,
      "outputs": [
        {
          "output_type": "display_data",
          "data": {
            "image/png": "[encoded data removed]",
            "text/plain": [
              "<Figure size 432x288 with 1 Axes>"
            ]
          },
          "metadata": {
            "tags": [],
            "needs_background": "light"
          }
        }
      ]
    },
    {
      "cell_type": "code",
      "metadata": {
        "colab": {
          "base_uri": "https://localhost:8080/"
        },
        "id": "4xETlbTDIaKN",
        "outputId": "f2dc596e-bbe5-46f0-f595-75dc46bfcda3"
      },
      "source": [
        "%time\n",
        "bootstrap_betas = np.zeros((5000, 2))\n",
        "\n",
        "for i in range(5000):\n",
        "  idx = rng.integers(50, size=50)\n",
        "  xnew = x[idx]\n",
        "  ynew = y[idx]\n",
        "  X = np.vstack((xnew, np.ones_like(xnew))).T\n",
        "  slope, intercept = lstsq(X, ynew, rcond=None)[0]\n",
        "  bootstrap_betas[i, :] = (slope, intercept)"
      ],
      "execution_count": 3,
      "outputs": [
        {
          "output_type": "stream",
          "text": [
            "CPU times: user 3 µs, sys: 1 µs, total: 4 µs\n",
            "Wall time: 7.87 µs\n"
          ],
          "name": "stdout"
        }
      ]
    },
    {
      "cell_type": "code",
      "metadata": {
        "colab": {
          "base_uri": "https://localhost:8080/",
          "height": 287
        },
        "id": "qaXyFPi2JNIF",
        "outputId": "f1295223-1b05-43a4-efb0-fb1faa2e59cf"
      },
      "source": [
        "plt.hist(bootstrap_betas[:, 0], bins=20, edgecolor='k', density=True)\n",
        "plt.title(r\"$\\hat \\beta_1$\");"
      ],
      "execution_count": 4,
      "outputs": [
        {
          "output_type": "display_data",
          "data": {
            "image/png": "[encoded data removed]",
            "text/plain": [
              "<Figure size 432x288 with 1 Axes>"
            ]
          },
          "metadata": {
            "tags": [],
            "needs_background": "light"
          }
        }
      ]
    },
    {
      "cell_type": "code",
      "metadata": {
        "colab": {
          "base_uri": "https://localhost:8080/",
          "height": 287
        },
        "id": "PfAHgPbVJmUh",
        "outputId": "26aae396-e1ab-4941-c29f-8d85abcb7ee3"
      },
      "source": [
        "plt.hist(bootstrap_betas[:, 1], bins=20, edgecolor='k', density=True)\n",
        "plt.title(r\"$\\hat \\beta_0$\");"
      ],
      "execution_count": 5,
      "outputs": [
        {
          "output_type": "display_data",
          "data": {
            "image/png": "[encoded data removed]",
            "text/plain": [
              "<Figure size 432x288 with 1 Axes>"
            ]
          },
          "metadata": {
            "tags": [],
            "needs_background": "light"
          }
        }
      ]
    }
  ]
}
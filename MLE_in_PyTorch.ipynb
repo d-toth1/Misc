{
  "nbformat": 4,
  "nbformat_minor": 0,
  "metadata": {
    "colab": {
      "name": "MLE in PyTorch.ipynb",
      "provenance": []
    },
    "kernelspec": {
      "name": "python3",
      "display_name": "Python 3"
    }
  },
  "cells": [
    {
      "cell_type": "code",
      "metadata": {
        "id": "-bVu8ugU6nmG"
      },
      "source": [
        "import torch as tch\n",
        "import torch.distributions as dist\n",
        "import matplotlib.pyplot as plt"
      ],
      "execution_count": 1,
      "outputs": []
    },
    {
      "cell_type": "code",
      "metadata": {
        "id": "EHaS2BE360_s"
      },
      "source": [
        "MU = -4.5\n",
        "SIGMA = 2.0\n",
        "sample = dist.normal.Normal(MU, SIGMA).sample((1000,))"
      ],
      "execution_count": 2,
      "outputs": []
    },
    {
      "cell_type": "code",
      "metadata": {
        "colab": {
          "base_uri": "https://localhost:8080/",
          "height": 265
        },
        "id": "74Qk4Ojw7IqW",
        "outputId": "37ad0e41-0a66-4f23-ff09-68951eefdef2"
      },
      "source": [
        "plt.hist(sample, bins=20, edgecolor='k');"
      ],
      "execution_count": 3,
      "outputs": [
        {
          "output_type": "display_data",
          "data": {
            "image/png": "[encoded data removed]",
            "text/plain": [
              "<Figure size 432x288 with 1 Axes>"
            ]
          },
          "metadata": {
            "tags": [],
            "needs_background": "light"
          }
        }
      ]
    },
    {
      "cell_type": "code",
      "metadata": {
        "id": "rjzQyCHO7c6N"
      },
      "source": [
        "mu = tch.nn.Parameter(tch.rand((1,)), requires_grad=True)\n",
        "sigma = tch.nn.Parameter(tch.rand((1,)), requires_grad=True)\n",
        "optim = tch.optim.Adam([mu, sigma], lr=0.01)"
      ],
      "execution_count": 4,
      "outputs": []
    },
    {
      "cell_type": "code",
      "metadata": {
        "id": "-5_IMesb8r-C"
      },
      "source": [
        "for i in range(5000):\n",
        "  nll = -1.*tch.sum(dist.normal.Normal(mu, sigma).log_prob(sample))\n",
        "  nll.backward()\n",
        "  optim.step()\n",
        "  optim.zero_grad()\n",
        "\n",
        "  sigma.clamp(1e-16, 10.)"
      ],
      "execution_count": 5,
      "outputs": []
    },
    {
      "cell_type": "code",
      "metadata": {
        "colab": {
          "base_uri": "https://localhost:8080/"
        },
        "id": "i8BZaSxm9fbA",
        "outputId": "37be14ae-1d40-406b-9de8-599302e6a738"
      },
      "source": [
        "print(\"Mean: {}   Sigma: {}\".format(mu.item(), sigma.item()))"
      ],
      "execution_count": 6,
      "outputs": [
        {
          "output_type": "stream",
          "text": [
            "Mean: -4.564687252044678   Sigma: 1.9725515842437744\n"
          ],
          "name": "stdout"
        }
      ]
    },
    {
      "cell_type": "code",
      "metadata": {
        "id": "EZr0y7ky-4Py"
      },
      "source": [
        ""
      ],
      "execution_count": 6,
      "outputs": []
    }
  ]
}
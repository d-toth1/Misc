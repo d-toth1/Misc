{
 "cells": [
  {
   "cell_type": "code",
   "execution_count": 1,
   "metadata": {},
   "outputs": [],
   "source": [
    "import numpy as np\n",
    "import matplotlib.pyplot as plt\n",
    "from scipy.stats import ttest_1samp"
   ]
  },
  {
   "cell_type": "code",
   "execution_count": 2,
   "metadata": {},
   "outputs": [
    {
     "name": "stdout",
     "output_type": "stream",
     "text": [
      "Mean: -0.0674831541302308  Standard Deviation: 1.0089388051513322\n"
     ]
    }
   ],
   "source": [
    "# Draw 100 points from the standard normal dist.\n",
    "data = np.random.randn(100)\n",
    "print(\"Mean: {}  Standard Deviation: {}\".format(data.mean(), \n",
    "                                                data.std()))"
   ]
  },
  {
   "cell_type": "code",
   "execution_count": 3,
   "metadata": {},
   "outputs": [
    {
     "data": {
      "image/png": "[encoded data removed]",
      "text/plain": [
       "<Figure size 432x288 with 1 Axes>"
      ]
     },
     "metadata": {
      "needs_background": "light"
     },
     "output_type": "display_data"
    }
   ],
   "source": [
    "# Visualize the sample\n",
    "plt.hist(data, edgecolor='k', density=True)\n",
    "plt.xlabel(\"Data\")\n",
    "plt.ylabel(\"Density\")\n",
    "plt.title(\"Histogram of Data\");"
   ]
  },
  {
   "cell_type": "code",
   "execution_count": 4,
   "metadata": {},
   "outputs": [
    {
     "name": "stdout",
     "output_type": "stream",
     "text": [
      "Test statistic: -0.6655001297708854  p-value: 0.5072782192803977\n"
     ]
    }
   ],
   "source": [
    "# Suppose we wish to test the hypothesis that\n",
    "# the mean of our data is 0. To do this, we could\n",
    "# use a t-test\n",
    "test_statistic, p_value = ttest_1samp(data, popmean=0)\n",
    "print(\"Test statistic: {}  p-value: {}\".format(test_statistic, p_value))"
   ]
  },
  {
   "cell_type": "code",
   "execution_count": 5,
   "metadata": {},
   "outputs": [
    {
     "data": {
      "image/png": "[encoded data removed]",
      "text/plain": [
       "<Figure size 432x288 with 1 Axes>"
      ]
     },
     "metadata": {
      "needs_background": "light"
     },
     "output_type": "display_data"
    }
   ],
   "source": [
    "# Instead of using a test that requires certain assumptions\n",
    "# be met and that has a difficult formula to memorize, \n",
    "# we can simulate the sampling distribution\n",
    "samp_dist_of_mean = np.array([np.random.choice(data, size=100, replace=True).mean() \n",
    "                              for i in range(10000)])\n",
    "\n",
    "plt.hist(samp_dist_of_mean, bins=20, edgecolor='k', density=True)\n",
    "plt.xlabel(\"Sample Mean\")\n",
    "plt.ylabel(\"Density\")\n",
    "plt.title(\"Sampling Distribution of the Mean\");"
   ]
  },
  {
   "cell_type": "code",
   "execution_count": 6,
   "metadata": {},
   "outputs": [
    {
     "data": {
      "text/plain": [
       "0.52"
      ]
     },
     "execution_count": 6,
     "metadata": {},
     "output_type": "execute_result"
    }
   ],
   "source": [
    "# The two-sided p-value is simply equal to \n",
    "# the proportion of samples that are greater\n",
    "# than the null hypothesis x 2\n",
    "2 * sum(samp_dist_of_mean > 0)/len(samp_dist_of_mean)"
   ]
  },
  {
   "cell_type": "code",
   "execution_count": 7,
   "metadata": {},
   "outputs": [],
   "source": [
    "# For a common significance level like 0.05, we fail to reject \n",
    "# the null hypothesis that the mean is equal to 0"
   ]
  },
  {
   "cell_type": "code",
   "execution_count": null,
   "metadata": {},
   "outputs": [],
   "source": []
  }
 ],
 "metadata": {
  "kernelspec": {
   "display_name": "Python 3",
   "language": "python",
   "name": "python3"
  },
  "language_info": {
   "codemirror_mode": {
    "name": "ipython",
    "version": 3
   },
   "file_extension": ".py",
   "mimetype": "text/x-python",
   "name": "python",
   "nbconvert_exporter": "python",
   "pygments_lexer": "ipython3",
   "version": "3.8.5"
  }
 },
 "nbformat": 4,
 "nbformat_minor": 4
}
